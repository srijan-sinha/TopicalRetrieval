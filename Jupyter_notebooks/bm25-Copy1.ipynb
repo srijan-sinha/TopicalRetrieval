{
 "cells": [
  {
   "cell_type": "code",
   "execution_count": 121,
   "metadata": {},
   "outputs": [],
   "source": [
    "import numpy as np\n",
    "import pandas as pd\n",
    "import math\n",
    "import time\n",
    "import pickle as pkl\n",
    "import gensim\n",
    "import shutil\n",
    "import glob\n",
    "import os\n",
    "import smart_open\n",
    "import time"
   ]
  },
  {
   "cell_type": "code",
   "execution_count": 62,
   "metadata": {},
   "outputs": [],
   "source": [
    "IV_file = '../../data/inverted_index.pkl'\n",
    "TAGDICFILE = '../../data/trainTagsToIndex.pkl'\n",
    "DOC_LENGTH_FILE = '../../data/doc_length.pkl'\n",
    "QUERIES_FILE = '../../data/queries.txt'\n",
    "DOC2VECMODEL = '../../data/modelembedding.pkl'\n",
    "stopwords = open('../code/stopwords.txt', 'r').readlines()\n",
    "punctuation = open('../code/punctuation.txt', 'r').readlines()\n",
    "stopwords = [i.strip() for i in stopwords]\n",
    "punctuation = [i.strip() for i in punctuation]\n",
    "f = open(IV_file, 'rb')\n",
    "inverted_index = pkl.load(f)\n",
    "f.close()\n",
    "f = open(DOC_LENGTH_FILE, 'rb')\n",
    "documentLenArr = pkl.load(f)\n",
    "f.close()\n",
    "f = open(TAGDICFILE, 'rb')\n",
    "tagDic = pkl.load(f)\n",
    "f.close()\n",
    "numdocuments = len(documentLenArr)\n",
    "k1 = 1.5\n",
    "b = 0.5\n",
    "avgDoclength = sum(documentLenArr)*1.0/numdocuments\n",
    "maxranking = 50\n",
    "f = open(DOC2VECMODEL, 'rb')\n",
    "doc2vecmodel = pkl.load(f)\n",
    "f.close()\n"
   ]
  },
  {
   "cell_type": "code",
   "execution_count": 59,
   "metadata": {},
   "outputs": [],
   "source": [
    "def read_corpus_query(fname):\n",
    "    with smart_open.open(fname, encoding=\"iso-8859-1\") as f:\n",
    "        for i, line in enumerate(f):\n",
    "#             print(i,line)\n",
    "            tokens = gensim.utils.simple_preprocess(line)\n",
    "            yield tokens\n",
    "            \n"
   ]
  },
  {
   "cell_type": "code",
   "execution_count": 85,
   "metadata": {},
   "outputs": [],
   "source": [
    "# assuming numdocuments, documentLenArr, k1, b, avgDoclength, maxrank\n",
    "#usage sort_index(getScoreForQuery(find_count(query)))\n",
    "def getScoreForQuery(queryMap):\n",
    "    documentToScore = {}\n",
    "    for term, termfreq in queryMap.items():\n",
    "        if term in inverted_index:\n",
    "            posting = inverted_index[term]\n",
    "            weightOrIdf = calcIdf(len(posting))\n",
    "            for docInfo in posting:\n",
    "                doc_id = docInfo[0]\n",
    "                doc_id_freq = docInfo[1]\n",
    "                scoreTermDoc = getScoreForTermForDocument(termfreq,doc_id,weightOrIdf,doc_id_freq)\n",
    "                if doc_id in documentToScore:\n",
    "                    documentToScore[doc_id] = documentToScore[doc_id] + scoreTermDoc\n",
    "                else:\n",
    "                    documentToScore[doc_id] = scoreTermDoc\n",
    "    return documentToScore\n",
    "def getScoreForQueryOptimized(queryMap, qindex):\n",
    "    documentToScore = {}\n",
    "    thisdocset = docsets[qindex]\n",
    "    for term, termfreq in queryMap.items():\n",
    "        if term in inverted_index:\n",
    "            posting = inverted_index[term]\n",
    "            weightOrIdf = calcIdf(len(posting))\n",
    "            for docInfo in posting:\n",
    "                doc_id = docInfo[0]\n",
    "                if doc_id not in thisdocset:\n",
    "                    continue\n",
    "                doc_id_freq = docInfo[1]\n",
    "                scoreTermDoc = getScoreForTermForDocument(termfreq,doc_id,weightOrIdf,doc_id_freq)\n",
    "                if doc_id in documentToScore:\n",
    "                    documentToScore[doc_id] = documentToScore[doc_id] + scoreTermDoc\n",
    "                else:\n",
    "                    documentToScore[doc_id] = scoreTermDoc\n",
    "    return documentToScore\n",
    "def calcIdf(lenposting):\n",
    "    ans = math.log((numdocuments*1.0 - lenposting +0.5)/(lenposting+0.5))\n",
    "    return ans\n",
    "def getScoreForTermForDocument(qfi,docNo,weight,tfi):\n",
    "    docLength = documentLenArr[docNo]*1.0\n",
    "    ans = weight* ((tfi*(k1+1)*1.0)/(tfi+k1*(1.0-b+b*(docLength/avgDoclength))))\n",
    "    ans = ans*qfi\n",
    "    return ans\n",
    "def find_count(text_arr):\n",
    "    dictionary = {}\n",
    "    for i in text_arr:\n",
    "        if (i not in stopwords and i not in punctuation):\n",
    "            if (i in dictionary):\n",
    "                dictionary[i] += 1\n",
    "            else:\n",
    "                dictionary[i] = 1\n",
    "    return dictionary"
   ]
  },
  {
   "cell_type": "code",
   "execution_count": 42,
   "metadata": {},
   "outputs": [],
   "source": [
    "def sort_index(documentToScore):\n",
    "    ans = []\n",
    "    numvaluesAdded=0\n",
    "    while(numvaluesAdded<=maxranking and len(documentToScore)!=0):\n",
    "        tempkey = max(documentToScore, key=documentToScore.get)\n",
    "        ans.append((tempkey, documentToScore[tempkey]))\n",
    "        numvaluesAdded +=1\n",
    "        del documentToScore[tempkey]\n",
    "    return ans\n",
    "def tagToScore(documentToScore):\n",
    "    ans = []\n",
    "    for doc_id, score in documentToScore:\n",
    "        ans.append((tagDic[doc_id], score))\n",
    "    return ans;"
   ]
  },
  {
   "cell_type": "code",
   "execution_count": 113,
   "metadata": {},
   "outputs": [],
   "source": [
    "def writeOutput(answers, filename):\n",
    "    ansstr = \"\"\n",
    "    for i in range(len(answers)):\n",
    "        thisanswer = answers[i]\n",
    "        doctagToScore = tagToScore(thisanswer)\n",
    "        for j in range(len(doctagToScore)):\n",
    "            tempstr = str(i+51) + \" 0 \"+ doctagToScore[j][0] + \" \" + str(j+1)+\" \"+ str(doctagToScore[j][1])+ \" p\\n\"\n",
    "#             print(tempstr)\n",
    "            ansstr += tempstr\n",
    "    outfile = open(filename, \"w\")\n",
    "    outfile.write(ansstr)\n",
    "    outfile.close()\n",
    "    "
   ]
  },
  {
   "cell_type": "code",
   "execution_count": 114,
   "metadata": {},
   "outputs": [],
   "source": [
    "writeOutput(answersall, \"../../data/answers.txt\")"
   ]
  },
  {
   "cell_type": "code",
   "execution_count": 119,
   "metadata": {},
   "outputs": [],
   "source": [
    "writeOutput(answersallOptimized, \"../../data/answersOptimized.txt\")"
   ]
  },
  {
   "cell_type": "code",
   "execution_count": 92,
   "metadata": {},
   "outputs": [
    {
     "name": "stdout",
     "output_type": "stream",
     "text": [
      "CPU times: user 2.25 s, sys: 6.93 ms, total: 2.26 s\n",
      "Wall time: 2.25 s\n"
     ]
    }
   ],
   "source": [
    "%%time\n",
    "answers0 = sort_index(getScoreForQuery(find_count(queries[0].split(' '))))"
   ]
  },
  {
   "cell_type": "code",
   "execution_count": 91,
   "metadata": {},
   "outputs": [
    {
     "name": "stdout",
     "output_type": "stream",
     "text": [
      "CPU times: user 119 ms, sys: 2.06 ms, total: 122 ms\n",
      "Wall time: 118 ms\n"
     ]
    }
   ],
   "source": [
    "%%time\n",
    "\n",
    "answers0opti = sort_index(getScoreForQueryOptimized(find_count(queries[0].split(' ')),0))"
   ]
  },
  {
   "cell_type": "code",
   "execution_count": 93,
   "metadata": {},
   "outputs": [
    {
     "data": {
      "text/plain": [
       "[(26981, 304.8617475336065),\n",
       " (28810, 282.8851483024513),\n",
       " (53422, 274.5631892787238),\n",
       " (74614, 262.4044325005894),\n",
       " (1953, 245.41192241598677),\n",
       " (4555, 244.0334300231214),\n",
       " (68360, 231.43227164080542),\n",
       " (49438, 222.6534758597379),\n",
       " (36992, 212.04500435688288),\n",
       " (10610, 206.4714163471085),\n",
       " (69787, 199.4715704218965),\n",
       " (12481, 184.03169749426738),\n",
       " (75323, 177.86855546017236),\n",
       " (51054, 176.6515263676422),\n",
       " (61949, 173.10270791548734),\n",
       " (7363, 172.42968976118823),\n",
       " (48370, 169.97662687072503),\n",
       " (67497, 169.18133787243318),\n",
       " (10316, 166.49337042244358),\n",
       " (23817, 162.95225033705762),\n",
       " (69485, 162.73952222072364),\n",
       " (75202, 160.699891576353),\n",
       " (37326, 159.17784547817428),\n",
       " (55433, 153.89222430881756),\n",
       " (69523, 153.52976615585615),\n",
       " (74240, 152.26524742628152),\n",
       " (48369, 151.7036994552047),\n",
       " (79700, 151.2075064671312),\n",
       " (71967, 151.18797279251586),\n",
       " (48705, 151.01492318144201),\n",
       " (2351, 148.22282148041472),\n",
       " (2350, 148.09189543366784),\n",
       " (69450, 137.60360242023933),\n",
       " (72239, 136.43473572067273),\n",
       " (12219, 135.8107826251251),\n",
       " (57038, 132.1735885847681),\n",
       " (80574, 131.72363636114514),\n",
       " (41743, 129.5013705193668),\n",
       " (7617, 129.4138074700494),\n",
       " (42399, 129.02932181227897),\n",
       " (69466, 128.51357776581312),\n",
       " (37510, 126.64943764383376),\n",
       " (19165, 125.4472371871416),\n",
       " (70310, 125.02447485410437),\n",
       " (23074, 124.0683653950268),\n",
       " (14119, 122.75840196231154),\n",
       " (73549, 122.50659413167561),\n",
       " (3352, 122.49380693124816),\n",
       " (37411, 120.90206213948221),\n",
       " (45366, 119.28975015452562),\n",
       " (76552, 119.17382521101028)]"
      ]
     },
     "execution_count": 93,
     "metadata": {},
     "output_type": "execute_result"
    }
   ],
   "source": [
    "answers0"
   ]
  },
  {
   "cell_type": "code",
   "execution_count": 94,
   "metadata": {},
   "outputs": [
    {
     "data": {
      "text/plain": [
       "[(26981, 304.8617475336065),\n",
       " (28810, 282.8851483024513),\n",
       " (53422, 274.5631892787238),\n",
       " (74614, 262.4044325005894),\n",
       " (1953, 245.41192241598677),\n",
       " (4555, 244.0334300231214),\n",
       " (68360, 231.43227164080542),\n",
       " (49438, 222.6534758597379),\n",
       " (75323, 177.86855546017236),\n",
       " (61949, 173.10270791548734),\n",
       " (7363, 172.42968976118823),\n",
       " (48370, 169.97662687072503),\n",
       " (10316, 166.49337042244358),\n",
       " (23817, 162.95225033705762),\n",
       " (69485, 162.73952222072364),\n",
       " (75202, 160.699891576353),\n",
       " (37326, 159.17784547817428),\n",
       " (69523, 153.52976615585615),\n",
       " (74240, 152.26524742628152),\n",
       " (79700, 151.2075064671312),\n",
       " (48705, 151.01492318144201),\n",
       " (69450, 137.60360242023933),\n",
       " (80574, 131.72363636114514),\n",
       " (7617, 129.4138074700494),\n",
       " (69466, 128.51357776581312),\n",
       " (37510, 126.64943764383376),\n",
       " (19165, 125.4472371871416),\n",
       " (3352, 122.49380693124816),\n",
       " (37411, 120.90206213948221),\n",
       " (45366, 119.28975015452562),\n",
       " (81775, 118.35800388105268),\n",
       " (20570, 113.63497484506628),\n",
       " (68622, 112.07333054710834),\n",
       " (29976, 110.89099678477568),\n",
       " (13989, 110.79515181716667),\n",
       " (74979, 108.02081099367813),\n",
       " (77929, 106.80825599190183),\n",
       " (5752, 106.71690411840794),\n",
       " (24405, 104.38082438141645),\n",
       " (54247, 101.86438100756935),\n",
       " (56359, 101.40481519870977),\n",
       " (50184, 100.04358957671072),\n",
       " (72230, 99.70630072101955),\n",
       " (3029, 99.34757597880862),\n",
       " (72281, 99.15798583400878),\n",
       " (76780, 98.41201598265451),\n",
       " (34773, 97.99976274558264),\n",
       " (68256, 97.4468217862332),\n",
       " (42111, 97.07772815966514),\n",
       " (10344, 96.31591021224517),\n",
       " (32656, 96.12655163343973)]"
      ]
     },
     "execution_count": 94,
     "metadata": {},
     "output_type": "execute_result"
    }
   ],
   "source": [
    "answers0opti"
   ]
  },
  {
   "cell_type": "code",
   "execution_count": 125,
   "metadata": {},
   "outputs": [
    {
     "name": "stdout",
     "output_type": "stream",
     "text": [
      "CPU times: user 1min 31s, sys: 56.3 ms, total: 1min 31s\n",
      "Wall time: 1min 31s\n"
     ]
    }
   ],
   "source": [
    "%%time\n",
    "starttime = time.time()\n",
    "queries = open(QUERIES_FILE, 'r').readlines()\n",
    "answersall = []\n",
    "for x in range(len(queries)):\n",
    "    answersall.append(sort_index(getScoreForQuery(find_count(queries[x].split(' ')))))\n",
    "endtime = time.time()"
   ]
  },
  {
   "cell_type": "code",
   "execution_count": 126,
   "metadata": {},
   "outputs": [
    {
     "name": "stdout",
     "output_type": "stream",
     "text": [
      "91.34549808502197\n"
     ]
    }
   ],
   "source": [
    "print(endtime-starttime)"
   ]
  },
  {
   "cell_type": "code",
   "execution_count": 43,
   "metadata": {},
   "outputs": [
    {
     "data": {
      "text/plain": [
       "[('AP880412-0268', 304.8617475336065),\n",
       " ('AP880406-0267', 282.8851483024513),\n",
       " ('AP880316-0292', 274.5631892787238),\n",
       " ('AP880301-0271', 262.4044325005894),\n",
       " ('AP880731-0085', 245.41192241598677),\n",
       " ('AP880325-0293', 244.0334300231214),\n",
       " ('AP890608-0253', 231.43227164080542),\n",
       " ('AP880922-0206', 222.6534758597379),\n",
       " ('AP880512-0314', 212.04500435688288),\n",
       " ('AP891010-0258', 206.4714163471085),\n",
       " ('AP880503-0244', 199.4715704218965),\n",
       " ('AP890329-0221', 184.03169749426738),\n",
       " ('AP890216-0288', 177.86855546017236),\n",
       " ('AP890606-0198', 176.6515263676422),\n",
       " ('AP881017-0296', 173.10270791548734),\n",
       " ('AP890412-0286', 172.42968976118823),\n",
       " ('AP890419-0228', 169.97662687072503),\n",
       " ('AP891011-0255', 169.18133787243318),\n",
       " ('AP890503-0279', 166.49337042244358),\n",
       " ('AP881219-0271', 162.95225033705762),\n",
       " ('AP880626-0038', 162.73952222072364),\n",
       " ('AP890216-0167', 160.699891576353),\n",
       " ('AP890816-0062', 159.17784547817428),\n",
       " ('AP890404-0263', 153.89222430881756),\n",
       " ('AP880626-0076', 153.52976615585615),\n",
       " ('AP880926-0235', 152.26524742628152),\n",
       " ('AP890419-0227', 151.7036994552047),\n",
       " ('AP890426-0260', 151.2075064671312),\n",
       " ('AP880428-0301', 151.18797279251586),\n",
       " ('AP880302-0275', 151.01492318144201),\n",
       " ('AP880703-0077', 148.22282148041472),\n",
       " ('AP880703-0076', 148.09189543366784),\n",
       " ('AP880626-0003', 137.60360242023933),\n",
       " ('AP890208-0268', 136.43473572067273),\n",
       " ('AP890206-0237', 135.8107826251251),\n",
       " ('AP880407-0258', 132.1735885847681),\n",
       " ('AP881117-0116', 131.72363636114514),\n",
       " ('AP880707-0089', 129.5013705193668),\n",
       " ('AP890620-0248', 129.4138074700494),\n",
       " ('AP891127-0256', 129.02932181227897),\n",
       " ('AP880626-0019', 128.51357776581312),\n",
       " ('AP890816-0246', 126.64943764383376),\n",
       " ('AP880826-0050', 125.4472371871416),\n",
       " ('AP890217-0158', 125.02447485410437),\n",
       " ('AP890803-0196', 124.0683653950268),\n",
       " ('AP890301-0076', 122.75840196231154),\n",
       " ('AP881129-0090', 122.50659413167561),\n",
       " ('AP890117-0018', 122.49380693124816),\n",
       " ('AP890816-0147', 120.90206213948221),\n",
       " ('AP880809-0246', 119.28975015452562),\n",
       " ('AP880509-0076', 119.17382521101028)]"
      ]
     },
     "execution_count": 43,
     "metadata": {},
     "output_type": "execute_result"
    }
   ],
   "source": [
    "tagToScore(answers0)"
   ]
  },
  {
   "cell_type": "code",
   "execution_count": 123,
   "metadata": {},
   "outputs": [
    {
     "name": "stdout",
     "output_type": "stream",
     "text": [
      "CPU times: user 12.9 s, sys: 47.9 ms, total: 13 s\n",
      "Wall time: 13.9 s\n"
     ]
    }
   ],
   "source": [
    "%%time\n",
    "starttime = time.time()\n",
    "queries = open(QUERIES_FILE, 'r').readlines()\n",
    "test_corpus = list(read_corpus_query(QUERIES_FILE))\n",
    "docsets = []\n",
    "for doc_id in range(len(test_corpus)):\n",
    "    inferred_vector = doc2vecmodel.infer_vector(test_corpus[doc_id])\n",
    "    sims = doc2vecmodel.docvecs.most_similar([inferred_vector], topn=5000)\n",
    "#     print(sims[:])\n",
    "    docsets.append(set([x for x,_ in sims]))\n",
    "answersallOptimized = []\n",
    "for x in range(len(queries)):\n",
    "    answersallOptimized.append(sort_index(getScoreForQueryOptimized(find_count(queries[x].split(' ')),x)))\n",
    "endtime = time.time()"
   ]
  },
  {
   "cell_type": "code",
   "execution_count": 124,
   "metadata": {},
   "outputs": [
    {
     "name": "stdout",
     "output_type": "stream",
     "text": [
      "13.852821111679077\n"
     ]
    }
   ],
   "source": [
    "print(endtime-starttime)"
   ]
  },
  {
   "cell_type": "code",
   "execution_count": 99,
   "metadata": {},
   "outputs": [
    {
     "data": {
      "text/plain": [
       "[('AP880412-0268', 304.8617475336065),\n",
       " ('AP880406-0267', 282.8851483024513),\n",
       " ('AP880316-0292', 274.5631892787238),\n",
       " ('AP880301-0271', 262.4044325005894),\n",
       " ('AP880731-0085', 245.41192241598677),\n",
       " ('AP880325-0293', 244.0334300231214),\n",
       " ('AP890608-0253', 231.43227164080542),\n",
       " ('AP880922-0206', 222.6534758597379),\n",
       " ('AP880512-0314', 212.04500435688288),\n",
       " ('AP891010-0258', 206.4714163471085),\n",
       " ('AP880503-0244', 199.4715704218965),\n",
       " ('AP890329-0221', 184.03169749426738),\n",
       " ('AP890216-0288', 177.86855546017236),\n",
       " ('AP890606-0198', 176.6515263676422),\n",
       " ('AP881017-0296', 173.10270791548734),\n",
       " ('AP890412-0286', 172.42968976118823),\n",
       " ('AP890419-0228', 169.97662687072503),\n",
       " ('AP891011-0255', 169.18133787243318),\n",
       " ('AP890503-0279', 166.49337042244358),\n",
       " ('AP881219-0271', 162.95225033705762),\n",
       " ('AP880626-0038', 162.73952222072364),\n",
       " ('AP890216-0167', 160.699891576353),\n",
       " ('AP890816-0062', 159.17784547817428),\n",
       " ('AP890404-0263', 153.89222430881756),\n",
       " ('AP880626-0076', 153.52976615585615),\n",
       " ('AP880926-0235', 152.26524742628152),\n",
       " ('AP890419-0227', 151.7036994552047),\n",
       " ('AP890426-0260', 151.2075064671312),\n",
       " ('AP880428-0301', 151.18797279251586),\n",
       " ('AP880302-0275', 151.01492318144201),\n",
       " ('AP880626-0003', 137.60360242023933),\n",
       " ('AP890208-0268', 136.43473572067273),\n",
       " ('AP890206-0237', 135.8107826251251),\n",
       " ('AP880407-0258', 132.1735885847681),\n",
       " ('AP881117-0116', 131.72363636114514),\n",
       " ('AP890620-0248', 129.4138074700494),\n",
       " ('AP891127-0256', 129.02932181227897),\n",
       " ('AP880626-0019', 128.51357776581312),\n",
       " ('AP890816-0246', 126.64943764383376),\n",
       " ('AP880826-0050', 125.4472371871416),\n",
       " ('AP890803-0196', 124.0683653950268),\n",
       " ('AP890117-0018', 122.49380693124816),\n",
       " ('AP890816-0147', 120.90206213948221),\n",
       " ('AP880809-0246', 119.28975015452562),\n",
       " ('AP890227-0288', 118.99519777580814),\n",
       " ('AP881203-0116', 118.35800388105268),\n",
       " ('AP890209-0234', 117.96448989178975),\n",
       " ('AP890219-0106', 116.52713768990019),\n",
       " ('AP880717-0007', 116.13684087022705),\n",
       " ('AP890427-0258', 114.52263497911076),\n",
       " ('AP891207-0246', 113.63497484506628)]"
      ]
     },
     "execution_count": 99,
     "metadata": {},
     "output_type": "execute_result"
    }
   ],
   "source": [
    "tagToScore(answersallOptimized[0])"
   ]
  },
  {
   "cell_type": "code",
   "execution_count": 44,
   "metadata": {},
   "outputs": [
    {
     "data": {
      "text/plain": [
       "245.3014302101384"
      ]
     },
     "execution_count": 44,
     "metadata": {},
     "output_type": "execute_result"
    }
   ],
   "source": [
    "avgDoclength"
   ]
  },
  {
   "cell_type": "code",
   "execution_count": 81,
   "metadata": {},
   "outputs": [
    {
     "data": {
      "text/plain": [
       "True"
      ]
     },
     "execution_count": 81,
     "metadata": {},
     "output_type": "execute_result"
    }
   ],
   "source": [
    "26981 in allsims[0]"
   ]
  },
  {
   "cell_type": "code",
   "execution_count": 83,
   "metadata": {},
   "outputs": [
    {
     "data": {
      "text/plain": [
       "[True,\n",
       " True,\n",
       " True,\n",
       " True,\n",
       " True,\n",
       " True,\n",
       " True,\n",
       " True,\n",
       " False,\n",
       " False,\n",
       " False,\n",
       " False,\n",
       " True,\n",
       " False,\n",
       " True,\n",
       " True,\n",
       " True,\n",
       " False,\n",
       " True,\n",
       " True,\n",
       " True,\n",
       " True,\n",
       " True,\n",
       " False,\n",
       " True,\n",
       " True,\n",
       " False,\n",
       " True,\n",
       " False,\n",
       " True,\n",
       " False,\n",
       " False,\n",
       " True,\n",
       " False,\n",
       " False,\n",
       " False,\n",
       " True,\n",
       " False,\n",
       " True,\n",
       " False,\n",
       " True,\n",
       " True,\n",
       " False,\n",
       " False,\n",
       " False,\n",
       " False,\n",
       " False,\n",
       " True,\n",
       " True,\n",
       " True,\n",
       " False]"
      ]
     },
     "execution_count": 83,
     "metadata": {},
     "output_type": "execute_result"
    }
   ],
   "source": [
    "[(x[0] in allsims[0]) for x in answers0]"
   ]
  },
  {
   "cell_type": "code",
   "execution_count": null,
   "metadata": {},
   "outputs": [],
   "source": []
  }
 ],
 "metadata": {
  "kernelspec": {
   "display_name": "Python 3",
   "language": "python",
   "name": "python3"
  },
  "language_info": {
   "codemirror_mode": {
    "name": "ipython",
    "version": 3
   },
   "file_extension": ".py",
   "mimetype": "text/x-python",
   "name": "python",
   "nbconvert_exporter": "python",
   "pygments_lexer": "ipython3",
   "version": "3.7.5"
  }
 },
 "nbformat": 4,
 "nbformat_minor": 2
}
