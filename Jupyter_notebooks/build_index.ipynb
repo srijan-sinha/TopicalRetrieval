{
 "cells": [
  {
   "cell_type": "code",
   "execution_count": 1,
   "metadata": {},
   "outputs": [],
   "source": [
    "import numpy as np\n",
    "import pandas as pd\n",
    "import math\n",
    "import glob\n",
    "import time\n",
    "import pickle as pkl"
   ]
  },
  {
   "cell_type": "code",
   "execution_count": 2,
   "metadata": {},
   "outputs": [],
   "source": [
    "files = glob.glob('../../data/train_mod/*')\n",
    "stopwords = open('../code/stopwords.txt', 'r').readlines()\n",
    "punctuation = open('../code/punctuation.txt', 'r').readlines()\n",
    "stopwords = [i.strip() for i in stopwords]\n",
    "punctuation = [i.strip() for i in punctuation]"
   ]
  },
  {
   "cell_type": "code",
   "execution_count": 3,
   "metadata": {},
   "outputs": [],
   "source": [
    "def find_count(text_arr):\n",
    "    dict = {}\n",
    "    for i in text_arr:\n",
    "        if (i not in stopwords and i not in punctuation):\n",
    "            if (i in dict):\n",
    "                dict[i] += 1\n",
    "            else:\n",
    "                dict[i] = 1\n",
    "    return dict\n",
    "\n",
    "def doc_len (dict):\n",
    "    sum = 0\n",
    "    for i in dict:\n",
    "        sum += dict[i]\n",
    "    return sum"
   ]
  },
  {
   "cell_type": "code",
   "execution_count": 4,
   "metadata": {},
   "outputs": [
    {
     "name": "stdout",
     "output_type": "stream",
     "text": [
      "5000\n",
      "10000\n",
      "15000\n",
      "20000\n",
      "25000\n",
      "30000\n",
      "35000\n",
      "40000\n",
      "45000\n",
      "50000\n",
      "55000\n",
      "60000\n",
      "65000\n",
      "70000\n",
      "75000\n",
      "80000\n",
      "445.49460768699646\n"
     ]
    }
   ],
   "source": [
    "start = time.time()\n",
    "count_docs = 0\n",
    "inverted_index = {}\n",
    "doc_length = []\n",
    "docs = open('../../data/trainall.txt', 'r').readlines()\n",
    "for j in docs:\n",
    "    doc_name = j[:13]\n",
    "    text = j[13:]\n",
    "    text = text.replace(\"\\t\", \" \")\n",
    "    text = text.replace(\"\\n\", \" \")\n",
    "    text = text.split()\n",
    "    text = find_count(text)\n",
    "    for i in text:\n",
    "        if (i not in inverted_index):\n",
    "            inverted_index[i] = np.array([[count_docs,text[i]]])\n",
    "        else:\n",
    "            inverted_index[i] = np.concatenate((inverted_index[i], np.array([[count_docs, text[i]]])), axis=0)\n",
    "    doc_length.append(doc_len(text))\n",
    "    count_docs += 1\n",
    "    if (count_docs%5000 == 0):\n",
    "        print (count_docs)\n",
    "\n",
    "end = time.time()\n",
    "print (end - start)\n",
    "doc_length = np.array(doc_length)"
   ]
  },
  {
   "cell_type": "code",
   "execution_count": 5,
   "metadata": {},
   "outputs": [],
   "source": [
    "f = open('../../data/inverted_index.pkl', 'wb')\n",
    "pkl.dump(inverted_index, f)\n",
    "f.close()\n",
    "f = open('../../data/doc_length.pkl', 'wb')\n",
    "pkl.dump(doc_length, f)\n",
    "f.close()"
   ]
  },
  {
   "cell_type": "code",
   "execution_count": 7,
   "metadata": {},
   "outputs": [],
   "source": [
    "f = open('../../data/inverted_index.pkl', 'rb')\n",
    "inverted_index_stored = pkl.load(f)\n",
    "f.close()\n",
    "f = open('../../data/doc_length.pkl', 'rb')\n",
    "doc_length_stored = pkl.load(f)\n",
    "f.close()"
   ]
  },
  {
   "cell_type": "code",
   "execution_count": 8,
   "metadata": {},
   "outputs": [
    {
     "data": {
      "text/plain": [
       "True"
      ]
     },
     "execution_count": 8,
     "metadata": {},
     "output_type": "execute_result"
    }
   ],
   "source": [
    "word = 'economics'\n",
    "np.array_equal(inverted_index[word], inverted_index_stored[word])"
   ]
  },
  {
   "cell_type": "code",
   "execution_count": 28,
   "metadata": {},
   "outputs": [
    {
     "name": "stdout",
     "output_type": "stream",
     "text": [
      "[[1171    1]\n",
      " [1788    1]\n",
      " [1954    1]\n",
      " [2559    1]\n",
      " [2749    1]\n",
      " [3123    1]]\n"
     ]
    }
   ],
   "source": [
    "print (inverted_index_stored['economics'][6:12,0:])"
   ]
  },
  {
   "cell_type": "code",
   "execution_count": 27,
   "metadata": {},
   "outputs": [
    {
     "name": "stdout",
     "output_type": "stream",
     "text": [
      "[[1171    1]\n",
      " [1788    1]\n",
      " [1953    2]\n",
      " [2558    2]\n",
      " [2749    1]\n",
      " [3123    1]]\n"
     ]
    }
   ],
   "source": [
    "print (inverted_index['economics'][6:12,0:])"
   ]
  },
  {
   "cell_type": "code",
   "execution_count": 14,
   "metadata": {},
   "outputs": [
    {
     "ename": "TypeError",
     "evalue": "unhashable type: 'slice'",
     "output_type": "error",
     "traceback": [
      "\u001b[0;31m---------------------------------------------------------------------------\u001b[0m",
      "\u001b[0;31mTypeError\u001b[0m                                 Traceback (most recent call last)",
      "\u001b[0;32m<ipython-input-14-4605cd15b5e5>\u001b[0m in \u001b[0;36m<module>\u001b[0;34m\u001b[0m\n\u001b[0;32m----> 1\u001b[0;31m \u001b[0mnp\u001b[0m\u001b[0;34m.\u001b[0m\u001b[0mwhere\u001b[0m\u001b[0;34m(\u001b[0m\u001b[0minverted_index_stored\u001b[0m\u001b[0;34m[\u001b[0m\u001b[0;34m:\u001b[0m\u001b[0;34m,\u001b[0m\u001b[0;36m1\u001b[0m\u001b[0;34m:\u001b[0m\u001b[0;34m]\u001b[0m \u001b[0;34m==\u001b[0m \u001b[0;36m2\u001b[0m\u001b[0;34m)\u001b[0m\u001b[0;34m\u001b[0m\u001b[0;34m\u001b[0m\u001b[0m\n\u001b[0m",
      "\u001b[0;31mTypeError\u001b[0m: unhashable type: 'slice'"
     ]
    }
   ],
   "source": [
    "np.where(inverted_index_stored[:,1:] == 2)"
   ]
  },
  {
   "cell_type": "code",
   "execution_count": 30,
   "metadata": {},
   "outputs": [
    {
     "data": {
      "text/plain": [
       "\"AP891121-0019\\tdonald  regan  is getting the last word _ or at least the latest _ in his little tiff with  nancy  reagan  over which one of them did more damage to  ronald  reagan 's presidency. in a review of mrs.  reagan 's book, `` my turn,'' the former white house chief of staff says his former boss' wife `` seems incapable of understanding how her words and deeds might seem selfish, hypocritical and, indeed, even frightening to those on the outside.'' `` very sadly ... this book gives aid and comfort to those who still believe that  ronald  reagan  never should have been elected president in the first place,''  regan  said. his review, in the december issue of washingtonian magazine, also replied to mrs.  reagan 's criticism of his disclosure in his memoirs that she had come to rely on the advice of an astrologer for scheduling  reagan 's activities. wrote she: `` it never, ever, occurred to me that  don  regan  would do what he did _ that he would take this information about my interest in astrology and twist it to seek his revenge on  ronnie  on me.'' wrote he, in his review: `` frankly, i hesitated before putting this astounding fact into the historical record. i certainly did not ` take this information ... and twist it to seek ... revenge.' `` the fact is, i wrote about astrology because it was an essential truth about the way the  reagans  operated. my description of white house life in my period as chief of staff would have made little sense if i had omitted it.'' mrs.  regan  minimized her dependence on astrology _ saying she called the astrologer only once or twice a month _ but  regan  said astrology played a significant role in shaping the  reagan  presidency. `` it was a daily, sometimes hourly, factor in every decision affecting the president's schedule,'' he wrote. `` he _ or in this case she _ who controls the president's schedule controls the workings of the presidency.'' mrs.  reagan  wrote that she urged her husband to fire  regan  after `` a stream of high government officials and congressional leaders'' came to her with the same message:  regan  had poor relations with  congress  and the press, was restricting access to  reagan , was intimidating subordinates. anyway, she said,  regan  deserved to be fired because the iran-contra affair occurred `` on his watch.''  regan , for his part, said, `` it apparently never registers with the former first lady that ... she damages her husband and his presidency'' in the way her book acidly criticizes many of president  reagan 's closest advisers, including  edwin  meese  iii ,  james  a.  baker  iii ,  david  stockman ,  alexander  m.  haig ,  william  clark  and  william  casey . `` after all,'' he wrote, `` these were  ronald  reagan 's choices, made after close consultation with his financial and political supporters and friends in  california ; he must have thought that they met his own standards.'' his conclusion: ``  nancy  reagan  and  donald  regan  both have written for the historical record. others will no doubt do the same; and to that end, history, that greatest of all polygraphs, will makes its judgment. i am comfortable with that.''\\n\""
      ]
     },
     "execution_count": 30,
     "metadata": {},
     "output_type": "execute_result"
    }
   ],
   "source": [
    "docs[2559]"
   ]
  },
  {
   "cell_type": "code",
   "execution_count": 31,
   "metadata": {},
   "outputs": [
    {
     "data": {
      "text/plain": [
       "\"AP891121-0018\\ta ban on the use of crop fungicides would cause consumer food prices to rise by 13 percent and the supply of fruits, vegetables and peanuts to decline by 24 percent, a farm chemical trade association says. no total ban on fungicides has been proposed, and the  environmental  protection  agency  said none is in the works. but  jay  vroom , president of the  national  agricultural  chemicals  association , said he wanted to call attention to the `` enormous benefit and the very small risk'' that result from the use of fungicides and other high-tech farming methods on food supplies. `` in my view, the debate regarding the safety of our food is almost totally risk-dominated,''  vroom  said. `` there is precious little mentioned about the benefit side of the equation.'' an economic study showing the effects of a ban on fungicides _ chemicals applied to crops, particularly fruit and vegetable, to prevent plant diseases _ was released by the association at a news conference monday. the study, paid for by the association, was done by  grc  economics , a  washington ,  d.c. , consulting subsidiary of  hill  and  knowlton  inc . the  environmental  protection  agency 's spokesman on pesticides,  al  heier , commented, `` we have always been concerned about fungicides, but we're not going to cancel all of them.'' he noted federal law requires the agency to balance benefits against risks when judging any pesticides and said the agency adheres to that mandate.  john  m.  urbanchuk , senior vice president and director of economics for the consulting firm, said, `` if fungicides were eliminated, you the consumer would pay more for lower-quality produce. you would find that many fruits and vegetables no longer look or taste the same as before, and they would cost much more.'' for example, he said, crops hit hardest with price increases would include popular salad bar items such as carrots, which would rise 80 percent; lettuce, 40 percent; tomatoes, 40 percent; and onions, 34 percent. prices of other major crops also would go up sharply, he said. peanuts and peanut butter would rise 68 percent; peaches, 37 percent; and potatoes, 37 percent. `` some foods may not be available at all,''  urbanchuk  said. `` if fungicides were no longer used by american farmers, consumers would not have bananas to slice on their morning meal, and children may not have peanut butter for their lunch sandwiches.'' production of fruits would decline by 32 percent, vegetables by 21 percent, peanuts by 68 percent, and the major grains such as corn and wheat by 6 percent, he said.  urbanchuk  said in his statement that poorer families would suffer the most by not being able to afford higher prices for fruits and vegetables.  lisa  lefferts  of the center for science in the public interest said she had not studied the chemical industry's report and had no comment on the study's specific figures. but, she said, the current way of growing food with large amounts of fungicides and other chemicals `` is n't the only way to do it.'' in fact, she added, the  national  academy  of  sciences  recently reported on alternate ways of farming to reduce the contamination of soil, water and air by cutting back on chemicals. `` we're confident, and so is the  national  academy  of  sciences , that we can produce foods profitably and competitively using far fewer fungicides and other pesticides,''  lefferts  said in a telephone interview. `` the most telling statistic would be not how much reduced fungicide use would cost consumers, but how much it would cost the chemical industry,'' she said. fungicides represent about $ 370 million or 7.4 percent of the $ 5 billion-a-year farm chemicals industry, association officials said. an advisory board for the study included representatives of the association, the  national  association  of  wheat  growers ,  national  food  processors  association ,  fertilizer  institute , resources for the future and the  agriculture  department . washington (ap)  james  cason , turned away by the  senate  for a top environmental job in the  bush  administration, has asked the  white  house  to withdraw his nomination. the action effectively ends an eight-month battle between president  bush  and environmentalists over the controversial nominee for assistant secretary of agriculture for natural resources and the environment. `` withdrawal of this nomination is a great disappointment,'' said  agriculture  secretary  clayton  yeutter , who announced  cason 's request on monday `` the lobbying effort against him was both misguided and unfair.'' there was no immediate responses from the  white  house , which never wavered in its support of  cason  despite repeated requests from individual senators to withdraw the nomination.  cason  was opposed by the  sierra  club ,  national  wildlife  federation ,  wilderness  society ,  league  of  conservation  voters  and  national  audubon  society . the groups alleged that  cason 's record in several top  interior  department  positions during the  reagan  administration showed favoritism toward private development of public lands, despite environmental concerns. sen.  patrick  leahy , d-vt., chairman of the  senate  agriculture  committee , worked to defeat  cason  after his committee sent the nomination to the floor on a 12-7 vote the  senate  sent the nomination back to the  white  house  on friday and asked that it not be resubmitted. it was the first rejection of a  bush  nominee by the full  senate  since  john  tower  was voted down as defense secretary in march. washington (ap)   catfish farmers have boosted production sharply from a year ago, and their prices have dropped almost as much. production in october was estimated at 31.7 million pounds, the  agriculture  department  said monday. that was up 21 percent from 26.2 million pounds a year earlier. prices received by growers averaged 64 cents per pound. that was down 19 percent from 79 cents in october 1988.\\n\""
      ]
     },
     "execution_count": 31,
     "metadata": {},
     "output_type": "execute_result"
    }
   ],
   "source": [
    "docs[2558]"
   ]
  },
  {
   "cell_type": "code",
   "execution_count": null,
   "metadata": {},
   "outputs": [],
   "source": []
  }
 ],
 "metadata": {
  "kernelspec": {
   "display_name": "Python 3",
   "language": "python",
   "name": "python3"
  },
  "language_info": {
   "codemirror_mode": {
    "name": "ipython",
    "version": 3
   },
   "file_extension": ".py",
   "mimetype": "text/x-python",
   "name": "python",
   "nbconvert_exporter": "python",
   "pygments_lexer": "ipython3",
   "version": "3.7.5"
  }
 },
 "nbformat": 4,
 "nbformat_minor": 2
}
